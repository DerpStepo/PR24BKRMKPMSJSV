{
 "cells": [
  {
   "cell_type": "markdown",
   "id": "876b63c0-c4d9-4601-b272-d85a73ad20a8",
   "metadata": {},
   "source": [
    "# Kakovost življenja v EU"
   ]
  },
  {
   "cell_type": "markdown",
   "id": "56d05535-7228-4348-aaad-870677c60417",
   "metadata": {},
   "source": [
    "Pri projektu bomo analizirali oceno kakovosti življenja prebivalcev različnih držav Evropske unije. Zanima nas kateri faktorji npr. BDP na prebivalca države, kvaliteta šolskega sistema, mere neenakosti, občutek varnosti prebivalca, ure dela tedensko oz. work-life balance... najmočneje vplivajo na kakovost življenja posameznika.\r\n",
    "\r\n",
    "Podatke bomo večinoma dobivali iz Eurostata, saj imajo veliko kvalitetnih podatkov o različnih državah Evropske unije, ki jih portal kot je OPSI nima."
   ]
  },
  {
   "cell_type": "markdown",
   "id": "617b6946-f615-45ed-a1e5-ee5db60549e2",
   "metadata": {},
   "source": [
    "## Uvoz podatkov"
   ]
  },
  {
   "cell_type": "code",
   "execution_count": 10,
   "id": "f8582993-c3ea-41b1-a4da-614dc207f63d",
   "metadata": {},
   "outputs": [],
   "source": [
    "import pandas as pd\n",
    "import numpy as np\n",
    "import matplotlib.pyplot as plt\n",
    "from collections import *\n",
    "\n",
    "\n",
    "#Uvoz podatkov v obliki pandas dataframe\n",
    "dropoutsCsv = pd.read_csv('./Data/Dropouts.csv')\n",
    "equalityIndexCsv = pd.read_csv('./Data/EqualityIndex.csv')\n",
    "emigrationCsv = pd.read_csv('./Data/emigration.csv')\n",
    "gdpPerCapitaCsv = pd.read_csv('./Data/Gdp.csv')\n",
    "inflationCsv = pd.read_csv('./Data/Inflation.csv')\n",
    "migrationCsv = pd.read_csv('./Data/migration.csv')\n",
    "minimumWageCsv = pd.read_csv('./Data/Minimal wage.csv')\n",
    "unemploymentCsv = pd.read_csv('./Data/unenployment(procent populacije).csv')\n",
    "workingHoursCsv = pd.read_csv('./Data/WorkingHoursWeekly.csv')\n",
    "\n",
    "#Tole je iracunana mnozica preseka drzav, ki se pojavljajo v vseh csv datotekah\n",
    "#Postopek racunanja sem pobrisal\n",
    "obravnavaneDrzave = {'Portugal', 'Estonia', 'Czechia', 'Switzerland', 'France', 'Iceland', 'Greece', 'Luxembourg', 'Latvia', 'Slovenia', 'Cyprus', 'Norway', 'United Kingdom', 'Montenegro', 'Lithuania', 'Poland', 'Serbia', 'Netherlands', 'Slovakia', 'Germany', 'Sweden', 'Spain', 'Bulgaria', 'Belgium', 'Finland', 'Hungary', 'Malta', 'Italy', 'Romania', 'Denmark', 'North Macedonia', 'Croatia', 'Austria', 'Ireland'}\n",
    "\n",
    "\n",
    "#Brisanje vrstic z odvecnimi drzavami\n",
    "for index, row in dropoutsCsv.iterrows():\n",
    "    if row['TIME'] not in obravnavaneDrzave:\n",
    "        dropoutsCsv.drop(index, inplace=True)\n",
    "\n",
    "for index, row in emigrationCsv.iterrows():\n",
    "    if row['Country'] not in obravnavaneDrzave:\n",
    "        emigrationCsv.drop(index, inplace=True)\n",
    "\n",
    "for index, row in equalityIndexCsv.iterrows():\n",
    "    if row['Drzava'] not in obravnavaneDrzave:\n",
    "        equalityIndexCsv.drop(index, inplace=True)\n",
    "\n",
    "for index, row in gdpPerCapitaCsv.iterrows():\n",
    "    if row['TIME'] not in obravnavaneDrzave:\n",
    "        gdpPerCapitaCsv.drop(index, inplace=True)\n",
    "\n",
    "for index, row in inflationCsv.iterrows():\n",
    "    if row['TIME'] not in obravnavaneDrzave:\n",
    "        inflationCsv.drop(index, inplace=True)\n",
    "\n",
    "for index, row in migrationCsv.iterrows():\n",
    "    if row['country'] not in obravnavaneDrzave:\n",
    "        migrationCsv.drop(index, inplace=True)\n",
    "\n",
    "for index, row in minimumWageCsv.iterrows():\n",
    "    if row['country'] not in obravnavaneDrzave:\n",
    "        minimumWageCsv.drop(index, inplace=True)\n",
    "\n",
    "for index, row in unemploymentCsv.iterrows():\n",
    "    if row['country'] not in obravnavaneDrzave:\n",
    "        unemploymentCsv.drop(index, inplace=True)\n",
    "\n",
    "for index, row in workingHoursCsv.iterrows():\n",
    "    if row['Country'] not in obravnavaneDrzave:\n",
    "        workingHoursCsv.drop(index, inplace=True)"
   ]
  },
  {
   "cell_type": "code",
   "execution_count": null,
   "id": "6defff1e-7bd5-4b5d-9b27-d77fb8ba829a",
   "metadata": {},
   "outputs": [],
   "source": []
  }
 ],
 "metadata": {
  "kernelspec": {
   "display_name": "Python 3 (ipykernel)",
   "language": "python",
   "name": "python3"
  },
  "language_info": {
   "codemirror_mode": {
    "name": "ipython",
    "version": 3
   },
   "file_extension": ".py",
   "mimetype": "text/x-python",
   "name": "python",
   "nbconvert_exporter": "python",
   "pygments_lexer": "ipython3",
   "version": "3.12.1"
  }
 },
 "nbformat": 4,
 "nbformat_minor": 5
}
